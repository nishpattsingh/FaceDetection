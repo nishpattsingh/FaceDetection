{
 "cells": [
  {
   "cell_type": "code",
   "execution_count": 1,
   "metadata": {},
   "outputs": [],
   "source": [
    "import numpy as np\n",
    "import cv2\n"
   ]
  },
  {
   "cell_type": "code",
   "execution_count": 6,
   "metadata": {},
   "outputs": [
    {
     "name": "stdout",
     "output_type": "stream",
     "text": [
      "enetr the name of the person : nishpatt\n",
      "1\n",
      "2\n",
      "3\n",
      "4\n",
      "5\n",
      "6\n",
      "7\n",
      "8\n",
      "9\n",
      "10\n",
      "11\n",
      "(11, 30000)\n",
      "Data Successfully save at ./nishpatt.npy\n"
     ]
    }
   ],
   "source": [
    "cap = cv2.VideoCapture(0)\n",
    "\n",
    "\n",
    "face_casade = cv2.CascadeClassifier(\"haarcascade_frontalface_alt.xml\")\n",
    "\n",
    "skip =0\n",
    "face_data = []\n",
    "dataset_path = \"./\"\n",
    "filename = input(\"enetr the name of the person : \")\n",
    "\n",
    "while True:\n",
    "        ret , frame = cap.read()\n",
    "        if ret==False:\n",
    "            continue\n",
    "        gray_frame = cv2.cvtColor(frame , cv2.COLOR_BGR2GRAY)\n",
    "        \n",
    "        \n",
    "        faces =  face_casade.detectMultiScale(frame,1.3,5)\n",
    "        #x , y, w ,h\n",
    "        if (len(faces)==0):\n",
    "            continue\n",
    "        faces = sorted(faces, key=lambda f:f[2]*f[3])\n",
    "        #print(faces)\n",
    "        for face in faces[-1:]:\n",
    "            x,y,w,h = face\n",
    "            cv2.rectangle(frame,(x,y),(x+w,y+h),(0,255,255),2)\n",
    "\n",
    "            #Extract (Crop out the required face) : Region of Interest\n",
    "            offset = 10\n",
    "            face_section = frame[y-offset:y+h+offset,x-offset:x+w+offset]\n",
    "            face_section = cv2.resize(face_section,(100,100))\n",
    "\n",
    "            skip += 1\n",
    "            if skip%10==0:\n",
    "                face_data.append(face_section)\n",
    "                print(len(face_data))\n",
    "\n",
    "\n",
    "        cv2.imshow(\"Frame\",frame)\n",
    "        cv2.imshow(\"Face Section\",face_section)\n",
    "\n",
    "        key_pressed = cv2.waitKey(1) & 0xFF\n",
    "        \n",
    "        if key_pressed==ord(\"q\"):\n",
    "            break\n",
    "\n",
    "\n",
    "\n",
    "\n",
    "# # Convert our face list array into a numpy array\n",
    "face_data = np.asarray(face_data)\n",
    "face_data = face_data.reshape((face_data.shape[0],-1))\n",
    "print(face_data.shape)\n",
    "\n",
    "# # Save this data into file system\n",
    "np.save(dataset_path+filename+'.npy',face_data)\n",
    "print(\"Data Successfully save at \"+dataset_path+filename+'.npy')\n",
    "\n",
    "cap.release()\n",
    "cv2.destroyAllWindows()\n",
    "\n",
    "\n",
    "\n",
    "\n",
    "\n",
    "\n"
   ]
  },
  {
   "cell_type": "code",
   "execution_count": null,
   "metadata": {},
   "outputs": [],
   "source": []
  },
  {
   "cell_type": "code",
   "execution_count": null,
   "metadata": {},
   "outputs": [],
   "source": []
  }
 ],
 "metadata": {
  "kernelspec": {
   "display_name": "Python 3",
   "language": "python",
   "name": "python3"
  },
  "language_info": {
   "codemirror_mode": {
    "name": "ipython",
    "version": 3
   },
   "file_extension": ".py",
   "mimetype": "text/x-python",
   "name": "python",
   "nbconvert_exporter": "python",
   "pygments_lexer": "ipython3",
   "version": "3.6.10"
  }
 },
 "nbformat": 4,
 "nbformat_minor": 4
}
